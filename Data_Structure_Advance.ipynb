{
  "nbformat": 4,
  "nbformat_minor": 0,
  "metadata": {
    "colab": {
      "provenance": []
    },
    "kernelspec": {
      "name": "python3",
      "display_name": "Python 3"
    },
    "language_info": {
      "name": "python"
    }
  },
  "cells": [
    {
      "cell_type": "markdown",
      "source": [
        "## Name: Shivanshu Singh Parihar\n",
        "# Batch : September 2024\n",
        "# Assignment Date: 15 Oct 2024\n",
        "# Assignment : Data Structure Advance\n",
        "\n",
        "###                                 Assignment -4\n",
        "\n",
        "\n",
        "\n",
        "\n"
      ],
      "metadata": {
        "id": "cZh4JM5RpEpp"
      }
    },
    {
      "cell_type": "markdown",
      "source": [
        "**1.\tWrite a code to reverse a string.**\n",
        "\n",
        "Ans:"
      ],
      "metadata": {
        "id": "BTjywBf2pukv"
      }
    },
    {
      "cell_type": "code",
      "source": [
        "input_string = \"Shivanshu\"\n",
        "def reverse_string(s):\n",
        "    return s[::-1]\n",
        "reversed_string = reverse_string(input_string)\n",
        "print(reversed_string)"
      ],
      "metadata": {
        "colab": {
          "base_uri": "https://localhost:8080/"
        },
        "id": "-PjqqQm9qLm0",
        "outputId": "1e1a837e-c7ba-4f67-befb-86d2c1c0617b"
      },
      "execution_count": null,
      "outputs": [
        {
          "output_type": "stream",
          "name": "stdout",
          "text": [
            "uhsnavihS\n"
          ]
        }
      ]
    },
    {
      "cell_type": "markdown",
      "source": [
        "**2. Write a code to count the number of vowels in a string.**\n",
        "\n",
        "Ans:"
      ],
      "metadata": {
        "id": "IZt20XteqmFt"
      }
    },
    {
      "cell_type": "code",
      "source": [
        "def count_vowels(s):\n",
        "    vowels = 'aeiouAEIOU'\n",
        "    count = sum(1 for char in s if char in vowels)\n",
        "    return count\n",
        "input_string = \"Shivanshu Singh Parihar\"\n",
        "vowel_count = count_vowels(input_string)\n",
        "print(f\"Number of vowels: {vowel_count}\")"
      ],
      "metadata": {
        "colab": {
          "base_uri": "https://localhost:8080/"
        },
        "id": "pPFAI1faqz91",
        "outputId": "55e73227-d5ba-415f-8c95-8a204232c80a"
      },
      "execution_count": null,
      "outputs": [
        {
          "output_type": "stream",
          "name": "stdout",
          "text": [
            "Number of vowels: 7\n"
          ]
        }
      ]
    },
    {
      "cell_type": "markdown",
      "source": [
        "**3.\tWrite a code to check if a given string is a palindrome or not.**\n",
        "\n",
        "Ans:"
      ],
      "metadata": {
        "id": "LC9wiQk0rPu8"
      }
    },
    {
      "cell_type": "code",
      "source": [
        "def is_palindrome(s):\n",
        "    # Remove spaces and convert to lowercase\n",
        "    cleaned_string = ''.join(s.split()).lower()\n",
        "    return cleaned_string == cleaned_string[::-1]\n",
        "input_string = \"A man a plan a canal Panama\"\n",
        "if is_palindrome(input_string):\n",
        "    print(f'\"{input_string}\" is a palindrome.')\n",
        "else:\n",
        "    print(f'\"{input_string}\" is not a palindrome.')"
      ],
      "metadata": {
        "colab": {
          "base_uri": "https://localhost:8080/"
        },
        "id": "-hkNvrSJscRz",
        "outputId": "93bd8c09-0c1d-46bd-f068-13a7f75b1f3f"
      },
      "execution_count": null,
      "outputs": [
        {
          "output_type": "stream",
          "name": "stdout",
          "text": [
            "\"A man a plan a canal Panama\" is a palindrome.\n"
          ]
        }
      ]
    },
    {
      "cell_type": "markdown",
      "source": [
        "**4.\tWrite a code to check if two given strings are anagrams of each other.**\n",
        "\n",
        "Ans:"
      ],
      "metadata": {
        "id": "NBRuwmmjsoHT"
      }
    },
    {
      "cell_type": "code",
      "source": [
        "def are_anagrams(str1, str2):\n",
        "    # Normalize by removing spaces and converting to lowercase\n",
        "    str1 = ''.join(str1.split()).lower()\n",
        "    str2 = ''.join(str2.split()).lower()\n",
        "\n",
        "    # Now weCheck if sorted characters are the same\n",
        "    return sorted(str1) == sorted(str2)\n",
        "\n",
        "# Example usage\n",
        "string1 = \"listen\"\n",
        "string2 = \"silent\"\n",
        "\n",
        "if are_anagrams(string1, string2):\n",
        "    print(f'\"{string1}\" and \"{string2}\" are anagrams.')\n",
        "else:\n",
        "    print(f'\"{string1}\" and \"{string2}\" are not anagrams.')"
      ],
      "metadata": {
        "colab": {
          "base_uri": "https://localhost:8080/"
        },
        "id": "fmt3gJ7nswOC",
        "outputId": "a1502605-6389-464a-8989-ff5d0f1daf44"
      },
      "execution_count": null,
      "outputs": [
        {
          "output_type": "stream",
          "name": "stdout",
          "text": [
            "\"listen\" and \"silent\" are anagrams.\n"
          ]
        }
      ]
    },
    {
      "cell_type": "markdown",
      "source": [
        "**5. Write a code to find all occurrences of a given substring within another string.**\n",
        "\n",
        "Ans:"
      ],
      "metadata": {
        "id": "jjUOCtfytQIz"
      }
    },
    {
      "cell_type": "code",
      "source": [
        "def find_occurrences(main_string, substring):\n",
        "    start = 0\n",
        "    occurrences = []\n",
        "\n",
        "    while True:\n",
        "        start = main_string.find(substring, start)\n",
        "        if start == -1:\n",
        "            break\n",
        "        occurrences.append(start)\n",
        "        start += 1\n",
        "    return occurrences\n",
        "main_string = \"This is a test. This test is only a test.\"\n",
        "substring = \"test\"\n",
        "occurrences = find_occurrences(main_string, substring)\n",
        "\n",
        "print(f'Occurrences of \"{substring}\": {occurrences}')"
      ],
      "metadata": {
        "colab": {
          "base_uri": "https://localhost:8080/"
        },
        "id": "QtZ0zyp8tXt7",
        "outputId": "6d0a2b96-bd8b-4b2f-8704-5c381a8448f8"
      },
      "execution_count": null,
      "outputs": [
        {
          "output_type": "stream",
          "name": "stdout",
          "text": [
            "Occurrences of \"test\": [10, 21, 36]\n"
          ]
        }
      ]
    },
    {
      "cell_type": "markdown",
      "source": [
        "**6.write a code to perform basic string compression using the counts of repeated charactres.**\n",
        "\n",
        "Ans:"
      ],
      "metadata": {
        "id": "l4tyahSmIBna"
      }
    },
    {
      "cell_type": "code",
      "source": [
        "s = \"aabcccccaaa\"\n",
        "compressed = []\n",
        "count = 1\n",
        "\n",
        "for i in range(1, len(s)):\n",
        "    if s[i] == s[i - 1]:\n",
        "        count += 1\n",
        "    else:\n",
        "        compressed.append(s[i - 1] + str(count))\n",
        "        count = 1\n",
        "\n",
        "compressed.append(s[-1] + str(count))\n",
        "\n",
        "compressed_string = ''.join(compressed)\n",
        "print(compressed_string)\n"
      ],
      "metadata": {
        "colab": {
          "base_uri": "https://localhost:8080/"
        },
        "id": "onYC7EDHHuiQ",
        "outputId": "357ba0bf-f37f-4053-9aaf-15c2e98f7e46"
      },
      "execution_count": 1,
      "outputs": [
        {
          "output_type": "stream",
          "name": "stdout",
          "text": [
            "a2b1c5a3\n"
          ]
        }
      ]
    },
    {
      "cell_type": "markdown",
      "source": [
        "**7. Write a code to determine if a string has all unique characters.**\n",
        "\n",
        "Ans:"
      ],
      "metadata": {
        "id": "wXpRQ14_IOFq"
      }
    },
    {
      "cell_type": "code",
      "source": [
        "txt = input(\"Enter a text:\")\n",
        "t_set = set()\n",
        "for i in txt:\n",
        "  t_set.add(i)\n",
        "\n",
        "if len(txt) == len(t_set):\n",
        "  print (\"txt contains all unique chars.\")\n",
        "else:\n",
        "  print(\"txt contains duplicate chars.\")\n",
        "\n",
        "\n"
      ],
      "metadata": {
        "id": "S46DKtmsleYI",
        "colab": {
          "base_uri": "https://localhost:8080/"
        },
        "outputId": "e4499c76-6cdd-4376-f16f-9bf68ea91f81"
      },
      "execution_count": 2,
      "outputs": [
        {
          "output_type": "stream",
          "name": "stdout",
          "text": [
            "Enter a text:Shivanshu\n",
            "txt contains duplicate chars.\n"
          ]
        }
      ]
    },
    {
      "cell_type": "markdown",
      "source": [
        "**8. Write a code to convert a given string to upper or lower case.**\n",
        "\n",
        "Ans:"
      ],
      "metadata": {
        "id": "8bsJzzdTIq1G"
      }
    },
    {
      "cell_type": "code",
      "source": [
        "txt = input(\"Enter a text:\")\n",
        "s_txt = txt.swapcase()\n",
        "print (s_txt)"
      ],
      "metadata": {
        "id": "VPaLIjY5-db5",
        "colab": {
          "base_uri": "https://localhost:8080/"
        },
        "outputId": "5de7cc64-cdc7-4663-e5cc-2f69ace6f060"
      },
      "execution_count": null,
      "outputs": [
        {
          "output_type": "stream",
          "name": "stdout",
          "text": [
            "Enter a text:Testing\n",
            "tESTING\n"
          ]
        }
      ]
    },
    {
      "cell_type": "markdown",
      "source": [
        "**9. Write a code to count the number words in a string.**\n",
        "\n",
        "Ans:"
      ],
      "metadata": {
        "id": "ub2YGh21I67E"
      }
    },
    {
      "cell_type": "code",
      "source": [
        "txt = input (\"Enter any text:\")\n",
        "list1 = txt.split()\n",
        "w_count = len (list1)\n",
        "print (\"w_count = \", w_count )"
      ],
      "metadata": {
        "colab": {
          "base_uri": "https://localhost:8080/"
        },
        "id": "pEtyXs5_JCd9",
        "outputId": "2bd32b0b-ec7c-48a4-ae9b-4c78e47e44e2"
      },
      "execution_count": 5,
      "outputs": [
        {
          "output_type": "stream",
          "name": "stdout",
          "text": [
            "Enter any text:Shivanshu Singh Parihar\n",
            "w_count =  3\n"
          ]
        }
      ]
    },
    {
      "cell_type": "markdown",
      "source": [
        "**10. Write a code to concatenete two strings without using the + operator.**\n",
        "\n",
        "Ans:"
      ],
      "metadata": {
        "id": "S7StkUaLJaVf"
      }
    },
    {
      "cell_type": "code",
      "source": [
        "txt1 = input (\"Enter 1st string:\")\n",
        "txt2 = input (\"Enter 2nd string:\")\n",
        "\n",
        "c_txt = f\"{txt1}{txt2}\"\n",
        "print (c_txt)"
      ],
      "metadata": {
        "colab": {
          "base_uri": "https://localhost:8080/"
        },
        "id": "npHDl_pFJh_G",
        "outputId": "b9950291-b9dc-49e1-ca05-624030074ed8"
      },
      "execution_count": 6,
      "outputs": [
        {
          "output_type": "stream",
          "name": "stdout",
          "text": [
            "Enter 1st string:Shivanshu\n",
            "Enter 2nd string:Singh\n",
            "ShivanshuSingh\n"
          ]
        }
      ]
    },
    {
      "cell_type": "markdown",
      "source": [
        "**11. Write a code to remove occurence of a specific element from a list.**\n",
        "\n",
        "Ans:"
      ],
      "metadata": {
        "id": "IClGnBEXJri-"
      }
    },
    {
      "cell_type": "code",
      "source": [
        "list1 = [10, 5, 20, 2, 37, 28, 22, 50, 30, 44, 2, 55, 57, 5, 50, 50 ]\n",
        "r_value = int(input(\"Enter the value to be removed:\"))\n",
        "for i in list1:\n",
        "    if i == r_value:\n",
        "      list1.remove(r_value)\n",
        "print (list1)"
      ],
      "metadata": {
        "colab": {
          "base_uri": "https://localhost:8080/"
        },
        "id": "JAAGaMwvJug-",
        "outputId": "1419a4f9-eaf5-4aec-f6e0-81e1cb0fb235"
      },
      "execution_count": 8,
      "outputs": [
        {
          "output_type": "stream",
          "name": "stdout",
          "text": [
            "Enter the value to be removed:57\n",
            "[10, 5, 20, 2, 37, 28, 22, 50, 30, 44, 2, 55, 5, 50, 50]\n"
          ]
        }
      ]
    },
    {
      "cell_type": "markdown",
      "source": [
        "**12. Write a code to find the second largest number in a given list of integer.**\n",
        "\n",
        "Ans:"
      ],
      "metadata": {
        "id": "JoUWrEcNKAn-"
      }
    },
    {
      "cell_type": "code",
      "source": [
        "list1 = [10, 100, 1000, 2000, 50, 90, 77, 500, 97]\n",
        "list2 = []\n",
        "highest = max(list1)\n",
        "\n",
        "i=0\n",
        "while i <= (len(list1) -1):\n",
        "    if list1[i] < highest:\n",
        "        list2.append(list1[i])\n",
        "    i+=1\n",
        "\n",
        "second_largest_number = max(list2)\n",
        "print (\"second largest no. in the list:\",second_largest_number)"
      ],
      "metadata": {
        "colab": {
          "base_uri": "https://localhost:8080/"
        },
        "id": "tV56HH77KIjG",
        "outputId": "62a4b10e-7cab-4416-e1cd-272b299f1cce"
      },
      "execution_count": 9,
      "outputs": [
        {
          "output_type": "stream",
          "name": "stdout",
          "text": [
            "second largest no. in the list: 1000\n"
          ]
        }
      ]
    },
    {
      "cell_type": "markdown",
      "source": [
        "**13. Create a code to count the occurrences of each element in a list and return a dictionary with elements as keys and their counts as values.**\n",
        "\n",
        "Ans:\n"
      ],
      "metadata": {
        "id": "L3xDiS-qLdH2"
      }
    },
    {
      "cell_type": "code",
      "source": [
        "list1 = [\"a\", \"Python\", 3, 4, \"a\", 4, 5, \"Python\", 7]\n",
        "key1 = []\n",
        "values1 = []\n",
        "dict1 = dict()\n",
        "\n",
        "i = 0\n",
        "while i < (len(list1)):\n",
        "  if list1[i] in key1:\n",
        "    i += 1\n",
        "    continue\n",
        "  else:\n",
        "    key1.append(list1[i])\n",
        "    count1 = list1.count(list1[i])\n",
        "    values1.append(count1)\n",
        "    i += 1\n",
        "\n",
        "for x,y in zip(key1,values1):\n",
        "  dict1 [x] = y\n",
        "\n",
        "print (dict1)\n"
      ],
      "metadata": {
        "colab": {
          "base_uri": "https://localhost:8080/"
        },
        "id": "s0bTos4cKJmN",
        "outputId": "21c6a949-34a3-4419-e192-dd6c8bc204bf"
      },
      "execution_count": 10,
      "outputs": [
        {
          "output_type": "stream",
          "name": "stdout",
          "text": [
            "{'a': 2, 'Python': 2, 3: 1, 4: 2, 5: 1, 7: 1}\n"
          ]
        }
      ]
    },
    {
      "cell_type": "markdown",
      "source": [
        "**14. Write a code to reverse a list in-place without using any built-in reverse function.**\n",
        "\n",
        "Ans:"
      ],
      "metadata": {
        "id": "a0vtyiUHKJae"
      }
    },
    {
      "cell_type": "code",
      "source": [
        "list1 = [10, 15, True, \"Python\", \"Building\", (3+6j), 90, 500]\n",
        "rev_list1 = list1 [::-1]\n",
        "print (rev_list1)"
      ],
      "metadata": {
        "colab": {
          "base_uri": "https://localhost:8080/"
        },
        "id": "nxx8bMVEKOgG",
        "outputId": "a1f53fc5-019e-4dfe-d1db-7496510e907b"
      },
      "execution_count": 11,
      "outputs": [
        {
          "output_type": "stream",
          "name": "stdout",
          "text": [
            "[500, 90, (3+6j), 'Building', 'Python', True, 15, 10]\n"
          ]
        }
      ]
    },
    {
      "cell_type": "markdown",
      "source": [
        "**15. Implement a code to find and remove duplicates from a list while preserving the original order of elements.**\n",
        "\n",
        "Ans:"
      ],
      "metadata": {
        "id": "s1WYdVX4Lu2G"
      }
    },
    {
      "cell_type": "code",
      "source": [
        "list1 = [1, 2, 3, 4, 1, \"Python\", 3 , \"Python\"]\n",
        "list2 = []\n",
        "i = 0\n",
        "while i < (len(list1)):\n",
        "  count = list1.count(list1[i])\n",
        "  if count == 1:\n",
        "    list2.append (list1[i])\n",
        "    i +=1\n",
        "  else:\n",
        "    if list1[i] in list2:\n",
        "      i +=1\n",
        "      continue\n",
        "    else:\n",
        "      list2.append(list1[i])\n",
        "      i += 1\n",
        "print (list2)\n"
      ],
      "metadata": {
        "colab": {
          "base_uri": "https://localhost:8080/"
        },
        "id": "xYU_vtRcKR9H",
        "outputId": "47a59679-75ba-4839-cfe7-86f03884fb12"
      },
      "execution_count": 12,
      "outputs": [
        {
          "output_type": "stream",
          "name": "stdout",
          "text": [
            "[1, 2, 3, 4, 'Python']\n"
          ]
        }
      ]
    },
    {
      "cell_type": "markdown",
      "source": [
        "**16. Create a code to check if a given list is sorted (either in ascending or descending order) or not.**\n",
        "\n",
        "Ans:"
      ],
      "metadata": {
        "id": "YhQ_K3MEL2ed"
      }
    },
    {
      "cell_type": "code",
      "source": [
        "list1 = [1, 2, 90, 500, 4, 55, 67, 40]\n",
        "Asc_list1 = sorted(list1)\n",
        "Desc_list1 = sorted(list1, reverse = True)\n",
        "\n",
        "if list1 == Asc_list1:\n",
        "  print (\"List1 is sorted in Ascending order.\")\n",
        "elif list1 == Desc_list1:\n",
        "  print (\"List1 is sorted in descending order.\")\n",
        "else:\n",
        "  print (\"List1 is not sorted.\")"
      ],
      "metadata": {
        "colab": {
          "base_uri": "https://localhost:8080/"
        },
        "id": "fZWC2rMXKU8W",
        "outputId": "c157760c-33d3-4644-fef4-5d97d59207cf"
      },
      "execution_count": 13,
      "outputs": [
        {
          "output_type": "stream",
          "name": "stdout",
          "text": [
            "List1 is not sorted.\n"
          ]
        }
      ]
    },
    {
      "cell_type": "markdown",
      "source": [
        "**17. Write a code to merge two sorted lists into a single sorted list.**\n",
        "\n",
        "Ans:"
      ],
      "metadata": {
        "id": "crDDqXGAL-11"
      }
    },
    {
      "cell_type": "code",
      "source": [
        "lst1 = [25, 35, 45, 65, 85, 95]\n",
        "lst2 = [20, 30, 40, 60, 80, 90]\n",
        "lst3 = sorted (lst1 + lst2)\n",
        "print(lst3)\n"
      ],
      "metadata": {
        "colab": {
          "base_uri": "https://localhost:8080/"
        },
        "id": "z4lwsvPBKXQ2",
        "outputId": "15439196-5b49-4bdd-f80d-b0218be8e3a6"
      },
      "execution_count": 14,
      "outputs": [
        {
          "output_type": "stream",
          "name": "stdout",
          "text": [
            "[20, 25, 30, 35, 40, 45, 60, 65, 80, 85, 90, 95]\n"
          ]
        }
      ]
    },
    {
      "cell_type": "markdown",
      "source": [
        "**18. Implement a code to find intersection of two given lists.**\n",
        "\n",
        "Ans:"
      ],
      "metadata": {
        "id": "Vxw9JJyOMIiU"
      }
    },
    {
      "cell_type": "code",
      "source": [
        "lst1 = (input (\"Enter 1st list members separated by comma: \")).split(',')\n",
        "lst2 = (input (\"Enter 2nd list members separated by comma: \")).split(',')\n",
        "\n",
        "set1 = set(lst1)\n",
        "set2 = set(lst2)\n",
        "set3 = set1.intersection(set2)\n",
        "print (list(set3))\n",
        "\n"
      ],
      "metadata": {
        "colab": {
          "base_uri": "https://localhost:8080/"
        },
        "id": "f26YAB3gKZRu",
        "outputId": "d0423f6a-eaa5-4023-9535-49d9a2e544ee"
      },
      "execution_count": 18,
      "outputs": [
        {
          "output_type": "stream",
          "name": "stdout",
          "text": [
            "Enter 1st list members separated by comma: 1, 30, 25, 10, 15, 17, 18\n",
            "Enter 2nd list members separated by comma: 67, 24, 15, 13, 78, 12, 16\n",
            "[' 15']\n"
          ]
        }
      ]
    },
    {
      "cell_type": "markdown",
      "source": [
        "**19. create a code to find union of two lists without duplicates.**\n",
        "\n",
        "Ans:"
      ],
      "metadata": {
        "id": "LcmwTdGVML69"
      }
    },
    {
      "cell_type": "code",
      "source": [
        "list1 = (input (\"Enter 1st list members separated by comma: \")).split(',')\n",
        "list2 = (input (\"Enter 2nd list members separated by comma: \")).split(',')\n",
        "\n",
        "set1 = set(list1)\n",
        "set2 = set(list2)\n",
        "print (set1.union(set2))\n",
        "\n"
      ],
      "metadata": {
        "colab": {
          "base_uri": "https://localhost:8080/"
        },
        "id": "HUSc2bgpKbee",
        "outputId": "34db9311-7dbc-4931-93d1-b4d8caa7bc9e"
      },
      "execution_count": 16,
      "outputs": [
        {
          "output_type": "stream",
          "name": "stdout",
          "text": [
            "Enter 1st list members separated by comma: 1, 30, 25, 10, 15, 17, 18\n",
            "Enter 2nd list members separated by comma: 67, 24, 15, 13, 78, 12, 16\n",
            "{' 30', ' 16', '1', ' 24', ' 17', '67', ' 13', ' 78', ' 15', ' 25', ' 18', ' 12', ' 10'}\n"
          ]
        }
      ]
    },
    {
      "cell_type": "markdown",
      "source": [
        "**20. Write a code to shuffle a given list randomly without using any built-in shuffle functions.**\n",
        "\n",
        "Ans:"
      ],
      "metadata": {
        "id": "k0FH_ZMiMYd6"
      }
    },
    {
      "cell_type": "code",
      "source": [
        "import random\n",
        "def shuffle_list(lst):\n",
        "    n = len(lst)\n",
        "    for i in range(n-1, 0, -1):\n",
        "        j = random.randint(0, i)\n",
        "        lst[i], lst[j] = lst[j], lst[i]\n",
        "    return lst\n",
        "\n",
        "\n",
        "original_list = [1, 2, 3, 4, 5]\n",
        "shuffled_list = shuffle_list(original_list.copy())\n",
        "print(\"Original list:\", original_list)\n",
        "print(\"Shuffled list:\", shuffled_list)\n"
      ],
      "metadata": {
        "colab": {
          "base_uri": "https://localhost:8080/"
        },
        "id": "ER_cGi4DKeuu",
        "outputId": "d09700f4-0397-4b78-cc26-d2d078545037"
      },
      "execution_count": 17,
      "outputs": [
        {
          "output_type": "stream",
          "name": "stdout",
          "text": [
            "Original list: [1, 2, 3, 4, 5]\n",
            "Shuffled list: [3, 5, 1, 4, 2]\n"
          ]
        }
      ]
    },
    {
      "cell_type": "markdown",
      "source": [
        "**21. Write a code that takes two tuples as input and returns a new tuple containing elements that are common to both input tuples.**\n",
        "\n",
        "Ans:\n"
      ],
      "metadata": {
        "id": "ku3rW4HqNJqd"
      }
    },
    {
      "cell_type": "code",
      "source": [
        "tple1 = (1, 2, 3, 4)\n",
        "tple2 = (2, 3, 5, 6)\n",
        "\n",
        "set1 = set (tple1)\n",
        "set2 = set (tple2)\n",
        "set3 = set1.intersection(set2)\n",
        "tple3 = tuple(set3)\n",
        "print (tple3)\n"
      ],
      "metadata": {
        "colab": {
          "base_uri": "https://localhost:8080/"
        },
        "id": "vJBpLGOuKiWe",
        "outputId": "a3723551-381e-4854-df78-5e018f256402"
      },
      "execution_count": 19,
      "outputs": [
        {
          "output_type": "stream",
          "name": "stdout",
          "text": [
            "(2, 3)\n"
          ]
        }
      ]
    },
    {
      "cell_type": "markdown",
      "source": [
        "**22. Create a code that prompts the user to enter two sets of integers separated by comma.Then print the intersection of these two sets.**\n",
        "\n",
        "Ans:"
      ],
      "metadata": {
        "id": "egFj4-1_NQF8"
      }
    },
    {
      "cell_type": "code",
      "source": [
        "lst1 = input(\"Enter the first set of integers, separated by commas: \")\n",
        "lst1 = lst1.split (\",\")\n",
        "set1 = set(int(i) for i in lst1 )\n",
        "\n",
        "lst2 = input(\"Enter the first set of integers, separated by commas: \")\n",
        "lst2 = lst2.split (\",\")\n",
        "set2 = set(int(i) for i in lst2 )\n",
        "\n",
        "c_members = set1.intersection(set2)\n",
        "print(\"Intersection of set1 & set2:\", c_members)\n"
      ],
      "metadata": {
        "colab": {
          "base_uri": "https://localhost:8080/"
        },
        "id": "C57WDNJJKlQe",
        "outputId": "fed8f71c-3858-4fda-dcbc-772aa9411ad9"
      },
      "execution_count": 20,
      "outputs": [
        {
          "output_type": "stream",
          "name": "stdout",
          "text": [
            "Enter the first set of integers, separated by commas: 1, 2, 3, 4, 5\n",
            "Enter the first set of integers, separated by commas: 3, 5, 1, 4, 2\n",
            "Intersection of set1 & set2: {1, 2, 3, 4, 5}\n"
          ]
        }
      ]
    },
    {
      "cell_type": "markdown",
      "source": [
        "**23. Write a code to concatenate two tuples. The function should take two tuples as input and return a new tuple containing elements from both input tuples.**\n",
        "\n",
        "Ans:"
      ],
      "metadata": {
        "id": "IIb0Mw2aNgvz"
      }
    },
    {
      "cell_type": "code",
      "source": [
        "def concatenate_tuples (tuple_1,tuple_2):\n",
        "    return (tuple_1 + tuple_2)\n",
        "\n",
        "tuple_1 = (1,2,3)\n",
        "tuple_2 = (5,7,8)\n",
        "tuple_3 = concatenate_tuples(tuple_1, tuple_2)\n",
        "print (tuple_3)\n"
      ],
      "metadata": {
        "colab": {
          "base_uri": "https://localhost:8080/"
        },
        "id": "0S_EZyjYKntn",
        "outputId": "f91afd77-afc4-4b22-cda0-a3040c04ea08"
      },
      "execution_count": 21,
      "outputs": [
        {
          "output_type": "stream",
          "name": "stdout",
          "text": [
            "(1, 2, 3, 5, 7, 8)\n"
          ]
        }
      ]
    },
    {
      "cell_type": "markdown",
      "source": [
        " **24. Develop a code that prompts a user to input two sets of strings. Then print the elements that are present in the first set but not in the second set.**\n",
        "\n",
        " Ans:\n"
      ],
      "metadata": {
        "id": "z2OzQmZpNnUa"
      }
    },
    {
      "cell_type": "code",
      "source": [
        "str1 = input (\"Enter set of String_1 separated by spaces: \")\n",
        "set1 = set(str1.split())\n",
        "\n",
        "str2 = input (\"Enter set of string_2 separated by spaces: \")\n",
        "set2 = set(str2.split())\n",
        "\n",
        "set3 = set1 - set2\n",
        "\n",
        "print (\"Elemnets present in str1 but not in str2\", set3)"
      ],
      "metadata": {
        "colab": {
          "base_uri": "https://localhost:8080/"
        },
        "id": "Ric_J-WvKp62",
        "outputId": "ea20d832-01ed-468a-d3ca-9eacf8173280"
      },
      "execution_count": 24,
      "outputs": [
        {
          "output_type": "stream",
          "name": "stdout",
          "text": [
            "Enter set of String_1 separated by spaces: \"Shivanshu\", \"data\", \"is\", \"my\"\n",
            "Enter set of string_2 separated by spaces: \"ajay\", \"pwskills\", \"vijat\", \"my\"\n",
            "Elemnets present in str1 but not in str2 {'\"data\",', '\"Shivanshu\",', '\"is\",'}\n"
          ]
        }
      ]
    },
    {
      "cell_type": "markdown",
      "source": [
        "**25. Create a code that takes a tuple and two integers as input. The function should return a new tuple containing elements from the original tuple within the specified range of indices.**\n",
        "\n",
        "Ans:"
      ],
      "metadata": {
        "id": "WYJvoajMOTyM"
      }
    },
    {
      "cell_type": "code",
      "source": [
        "def slice_tuple(input_tuple, start_index, end_index):\n",
        "    return input_tuple[start_index:end_index]\n",
        "\n",
        "input_tuple = (10, 260, 300, 409, 507, 605, 70)\n",
        "start_index = 2\n",
        "end_index = 5\n",
        "result = slice_tuple(input_tuple, start_index, end_index)\n",
        "\n",
        "print(\"Sliced tuple:\", result)\n",
        "\n"
      ],
      "metadata": {
        "colab": {
          "base_uri": "https://localhost:8080/"
        },
        "id": "O5XCXikVKyC1",
        "outputId": "75821ba7-cd73-4104-bdad-3afebc7ffd9a"
      },
      "execution_count": 25,
      "outputs": [
        {
          "output_type": "stream",
          "name": "stdout",
          "text": [
            "Sliced tuple: (300, 409, 507)\n"
          ]
        }
      ]
    },
    {
      "cell_type": "markdown",
      "source": [
        "**26. Write a code that prompts the user to input two sets of characters. Then, print the union of these two sets.**\n",
        "\n",
        "Ans:"
      ],
      "metadata": {
        "id": "BC-q9R92OarU"
      }
    },
    {
      "cell_type": "code",
      "source": [
        "set1 = set(input (\"Enter set of characters separated by spaces: \").split())\n",
        "\n",
        "set2 = set(input (\"Enter set of characters separated by spaces: \").split())\n",
        "\n",
        "union_set = set1.union(set2)\n",
        "print (\"Union of Set1 and set2: \", union_set)"
      ],
      "metadata": {
        "colab": {
          "base_uri": "https://localhost:8080/"
        },
        "id": "wzVWbJcbKzCd",
        "outputId": "b2d65d08-206f-4060-b90b-2204cdfb2960"
      },
      "execution_count": 26,
      "outputs": [
        {
          "output_type": "stream",
          "name": "stdout",
          "text": [
            "Enter set of characters separated by spaces: S H I V A N S H U \n",
            "Enter set of characters separated by spaces: S I N G H\n",
            "Union of Set1 and set2:  {'A', 'I', 'H', 'V', 'N', 'G', 'S', 'U'}\n"
          ]
        }
      ]
    },
    {
      "cell_type": "markdown",
      "source": [
        "**27. Develope a code that takes a tuple of integers as input. The function should return the maximum and minimum values from the tuple using tuple unpacking.**\n",
        "\n",
        "Ans:\n"
      ],
      "metadata": {
        "id": "IdbYSuvkOqwr"
      }
    },
    {
      "cell_type": "code",
      "source": [
        "def find_max_min(numbers):\n",
        "    max_val, min_val = max(numbers), min(numbers)\n",
        "    return max_val, min_val\n",
        "\n",
        "numbers = (10, 5, 90, 60,26)\n",
        "find_max_min(numbers)\n"
      ],
      "metadata": {
        "colab": {
          "base_uri": "https://localhost:8080/"
        },
        "id": "Rgp7Lp8ZK1gY",
        "outputId": "1e51a88c-e7ae-469d-85f8-4bd10804cbc6"
      },
      "execution_count": 27,
      "outputs": [
        {
          "output_type": "execute_result",
          "data": {
            "text/plain": [
              "(90, 5)"
            ]
          },
          "metadata": {},
          "execution_count": 27
        }
      ]
    },
    {
      "cell_type": "markdown",
      "source": [
        "**28. create a code that defines two sets of integers. Then find the union, intersection and difference of these two sets.**\n",
        "\n",
        "Ans;"
      ],
      "metadata": {
        "id": "sxgv3rSkOzBE"
      }
    },
    {
      "cell_type": "code",
      "source": [
        "s1= {1, 2, 4, 3,6}\n",
        "s2= {5, 6, 8, 9, 4, 6}\n",
        "union_set = s1.union(s2)\n",
        "intersection_set = s1.intersection(s2)\n",
        "Difference_set = s1.difference(s2)\n",
        "print(\"union of s1 and s2:\", union_set)\n",
        "print(\"Intersection of s1 and s2:\", intersection_set)\n",
        "print (\"Difference of s1 and s2:\", Difference_set)\n"
      ],
      "metadata": {
        "colab": {
          "base_uri": "https://localhost:8080/"
        },
        "id": "TJiSpKUoK3e9",
        "outputId": "7b19f460-7f50-48a4-9ea5-23d4cb0a4c63"
      },
      "execution_count": 28,
      "outputs": [
        {
          "output_type": "stream",
          "name": "stdout",
          "text": [
            "union of s1 and s2: {1, 2, 3, 4, 5, 6, 8, 9}\n",
            "Intersection of s1 and s2: {4, 6}\n",
            "Difference of s1 and s2: {1, 2, 3}\n"
          ]
        }
      ]
    },
    {
      "cell_type": "markdown",
      "source": [
        "**29. Write a code that takes a tuple and an integer as input. The function should return the count of occurance of the given elemnet in the tuple.**\n",
        "\n",
        "Ans:"
      ],
      "metadata": {
        "id": "2Y4MlLioO5ql"
      }
    },
    {
      "cell_type": "code",
      "source": [
        "def count_occurance(tuple1, element):\n",
        "  return tuple1.count(element)\n",
        "\n",
        "tuple1 = (109,34,65,78,32,(-3+5j),78,34,32,78,1098)\n",
        "element = int(input(\"Enter any element from the given tuple: \"))\n",
        "\n",
        "occurances = count_occurance(tuple1, element)\n",
        "print(occurances)"
      ],
      "metadata": {
        "colab": {
          "base_uri": "https://localhost:8080/"
        },
        "id": "RxU_kvyQK5t0",
        "outputId": "2fd21d19-0819-4615-f6bf-d8e74557158a"
      },
      "execution_count": 29,
      "outputs": [
        {
          "output_type": "stream",
          "name": "stdout",
          "text": [
            "Enter any element from the given tuple: 1098\n",
            "1\n"
          ]
        }
      ]
    },
    {
      "cell_type": "markdown",
      "source": [
        "**30. Develope a code that prompts the user to input two sets of strings. Then print the symmetric difference of these two sets.**\n",
        "\n",
        "Ans:"
      ],
      "metadata": {
        "id": "Pj6Tk0yePDKU"
      }
    },
    {
      "cell_type": "code",
      "source": [
        "set1_input = input(\"Enter the first set of strings,separated by commas: \")\n",
        "set1 = set(set1_input.split(','))\n",
        "\n",
        "set2_input = input(\"Enter the second set of strings,separated by commas: \")\n",
        "set2 = set(set2_input.split(','))\n",
        "\n",
        "symmetric_diff = set1.symmetric_difference(set2)\n",
        "print(\"The symmetric difference between the two sets is:\", symmetric_diff)\n"
      ],
      "metadata": {
        "colab": {
          "base_uri": "https://localhost:8080/"
        },
        "id": "ss1AAcb9K8Ur",
        "outputId": "dcdc13a4-aa56-400f-dc37-e4f8d3bdc99c"
      },
      "execution_count": 30,
      "outputs": [
        {
          "output_type": "stream",
          "name": "stdout",
          "text": [
            "Enter the first set of strings,separated by commas: \"Shivanshu\", \"data\", \"is\", \"my\"\n",
            "Enter the second set of strings,separated by commas: \"ajay\", \"pwskills\", \"vijat\", \"my\"\n",
            "The symmetric difference between the two sets is: {' \"data\"', '\"Shivanshu\"', ' \"vijat\"', ' \"is\"', ' \"pwskills\"', '\"ajay\"'}\n"
          ]
        }
      ]
    },
    {
      "cell_type": "markdown",
      "source": [
        "**31. Write a code that takes a list of words as input and returns a dictionary where the keys are unique words and the values are the frequencies of those words in the input list.**\n",
        "\n",
        "Ans:"
      ],
      "metadata": {
        "id": "74TUCexIPXb5"
      }
    },
    {
      "cell_type": "code",
      "source": [
        "words = input(\"Enter a list of words separated by spaces: \").split()\n",
        "\n",
        "word_frequency = {}\n",
        "\n",
        "for word in words:\n",
        "    if word in word_frequency:\n",
        "        word_frequency[word] += 1\n",
        "    else:\n",
        "        word_frequency[word] = 1\n",
        "\n",
        "print(\"Word Frequencies:\", word_frequency)"
      ],
      "metadata": {
        "colab": {
          "base_uri": "https://localhost:8080/"
        },
        "id": "FFCUkCaFK-mz",
        "outputId": "6c7e646d-6eb7-4c02-dc1e-50e78d2240a6"
      },
      "execution_count": 31,
      "outputs": [
        {
          "output_type": "stream",
          "name": "stdout",
          "text": [
            "Enter a list of words separated by spaces: S H I V A N S H U\n",
            "Word Frequencies: {'S': 2, 'H': 2, 'I': 1, 'V': 1, 'A': 1, 'N': 1, 'U': 1}\n"
          ]
        }
      ]
    },
    {
      "cell_type": "markdown",
      "source": [
        "**32. Write a code that takes two dictionaries as input and merges them into a single dictionary. If there are common keys, the vales should be added together.**\n",
        "\n",
        "Ans:"
      ],
      "metadata": {
        "id": "mwG4mUv6Plj6"
      }
    },
    {
      "cell_type": "code",
      "source": [
        "dict1 = eval(input(\"Enter the first dictionary: \"))\n",
        "dict2 = eval(input(\"Enter the second dictionary: \"))\n",
        "\n",
        "merged_dict = dict1.copy()\n",
        "\n",
        "for key, value in dict2.items():\n",
        "    if key in merged_dict:\n",
        "        merged_dict[key] += value\n",
        "    else:\n",
        "        merged_dict[key] = value\n",
        "\n",
        "\n",
        "print(\"Merged Dictionary:\", merged_dict)"
      ],
      "metadata": {
        "colab": {
          "base_uri": "https://localhost:8080/"
        },
        "id": "VdYqwxRNLB3p",
        "outputId": "bc8711b9-3ed0-47eb-c7d4-35d06cd99df2"
      },
      "execution_count": 34,
      "outputs": [
        {
          "output_type": "stream",
          "name": "stdout",
          "text": [
            "Enter the first dictionary: {'a': 10, 'b': 20, 'c': 30}\n",
            "Enter the second dictionary: {'b': 5, 'c': 15, 'd': 25}\n",
            "Merged Dictionary: {'a': 10, 'b': 25, 'c': 45, 'd': 25}\n"
          ]
        }
      ]
    },
    {
      "cell_type": "markdown",
      "source": [
        "**33. Write a code to access a value in a nested dictionary. The function should take the dictionary and a list of keys as input, and return the corresponding value. If any of the keys do not exist in the dictionary, the function should return None.**\n",
        "\n",
        "Ans:"
      ],
      "metadata": {
        "id": "zqrJsLpUP_7f"
      }
    },
    {
      "cell_type": "code",
      "source": [
        "def get_nested_value(d, keys):\n",
        "    for key in keys:\n",
        "        if isinstance(d, dict) and key in d:\n",
        "            d = d[key]\n",
        "        else:\n",
        "            return None\n",
        "    return d\n",
        "\n",
        "nested_dict = {'a': {'b': {'c': 'value'}}}\n",
        "\n",
        "keys = ['a', 'b', 'c']\n",
        "print(get_nested_value(nested_dict, keys))\n",
        "\n",
        "keys = ['a', 'b', 'd']\n",
        "print(get_nested_value(nested_dict, keys))\n",
        "\n"
      ],
      "metadata": {
        "colab": {
          "base_uri": "https://localhost:8080/"
        },
        "id": "4a5ZvShpLB18",
        "outputId": "2c4832a0-c0ca-4161-fe40-a0b789cf2434"
      },
      "execution_count": 35,
      "outputs": [
        {
          "output_type": "stream",
          "name": "stdout",
          "text": [
            "value\n",
            "None\n"
          ]
        }
      ]
    },
    {
      "cell_type": "markdown",
      "source": [
        "**34. Write a code that takes a dictionary as input and returns a sorted version of it based on the values. You can choose whether to sort in ascending or descending order.**\n",
        "\n",
        "Ans:"
      ],
      "metadata": {
        "id": "OPq1pUQsQIwG"
      }
    },
    {
      "cell_type": "code",
      "source": [
        "input_dict = {'Shivanshu': 3, 'data analysts': 1, 'pwskilss': 2}\n",
        "\n",
        "ascending = True\n",
        "\n",
        "sorted_items = sorted(input_dict.items(), key=lambda item: item[1], reverse=not ascending)\n",
        "\n",
        "sorted_dict = dict(sorted_items)\n",
        "\n",
        "print(\"Sorted Dictionary:\", sorted_dict)\n",
        "\n"
      ],
      "metadata": {
        "colab": {
          "base_uri": "https://localhost:8080/"
        },
        "id": "E77RXlAMLHa0",
        "outputId": "8a06da5e-61c3-4019-e07a-fc9a29d94bd6"
      },
      "execution_count": 37,
      "outputs": [
        {
          "output_type": "stream",
          "name": "stdout",
          "text": [
            "Sorted Dictionary: {'data analysts': 1, 'pwskilss': 2, 'Shivanshu': 3}\n"
          ]
        }
      ]
    },
    {
      "cell_type": "markdown",
      "source": [
        "**35. Write a code that inverts a dictionary, swapping keys and values. Ensure that the inverted dictionary correctly handles cases where multiple keys have the same value by storing the keys as a list in the inverted dictionary.**\n",
        "\n",
        "Ans:"
      ],
      "metadata": {
        "id": "odYxLjWJQgQV"
      }
    },
    {
      "cell_type": "code",
      "source": [
        "def invert_dict(d):\n",
        "    inverted = {}\n",
        "    for key, value in d.items():\n",
        "        if value not in inverted:\n",
        "            inverted[value] = [key]\n",
        "        else:\n",
        "            inverted[value].append(key)\n",
        "    return inverted\n",
        "\n",
        "original_dict = {'Shivanshu': 1, 'Parihar': 2, 'Singh': 1, 'is a good Boy': 3}\n",
        "\n",
        "inverted_dict = invert_dict(original_dict)\n",
        "print(inverted_dict)"
      ],
      "metadata": {
        "colab": {
          "base_uri": "https://localhost:8080/"
        },
        "id": "dMG0fyKPLMGv",
        "outputId": "9df1f293-13e6-494b-a597-53f09cf6e13e"
      },
      "execution_count": 40,
      "outputs": [
        {
          "output_type": "stream",
          "name": "stdout",
          "text": [
            "{1: ['Shivanshu', 'Singh'], 2: ['Parihar'], 3: ['is a good Boy']}\n"
          ]
        }
      ]
    }
  ]
}